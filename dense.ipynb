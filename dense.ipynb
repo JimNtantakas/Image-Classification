{
 "cells": [
  {
   "cell_type": "code",
   "execution_count": 13,
   "metadata": {},
   "outputs": [],
   "source": [
    "import torch\n",
    "import torch.nn as nn\n",
    "import torch.optim as optim\n",
    "import torchvision\n",
    "import torchvision.transforms as transforms"
   ]
  },
  {
   "cell_type": "code",
   "execution_count": 14,
   "metadata": {},
   "outputs": [
    {
     "name": "stdout",
     "output_type": "stream",
     "text": [
      "Files already downloaded and verified\n",
      "Files already downloaded and verified\n"
     ]
    }
   ],
   "source": [
    "transform = transforms.Compose(\n",
    "    [\n",
    "    transforms.ToTensor(),\n",
    "    transforms.Normalize((0.5, 0.5, 0.5), (0.5, 0.5, 0.5))\n",
    "    ]\n",
    ")\n",
    "\n",
    "batch_size = 100\n",
    "\n",
    "trainset = torchvision.datasets.CIFAR10(root='./data', train=True,download=True, transform=transform)\n",
    "trainloader = torch.utils.data.DataLoader(trainset, batch_size=batch_size,shuffle=True, num_workers=2)\n",
    "\n",
    "testset = torchvision.datasets.CIFAR10(root='./data', train=False,download=True, transform=transform)\n",
    "testloader = torch.utils.data.DataLoader(testset, batch_size=batch_size,shuffle=False, num_workers=2)"
   ]
  },
  {
   "cell_type": "code",
   "execution_count": 15,
   "metadata": {},
   "outputs": [
    {
     "data": {
      "text/plain": [
       "'class DenseNN(nn.Module):\\n    def __init__(self):\\n        super(DenseNN, self).__init__()\\n        self.fc1 = nn.Linear(3 * 32 * 32, 2048)  \\n        self.fc2 = nn.Linear(2048, 1024)           \\n        self.fc3 = nn.Linear(1024, 512)   \\n        self.fc4 = nn.Linear(512, 256) \\n        self.dropout = nn.Dropout(p=0.5)        \\n        self.fc5 = nn.Linear(256, 10)           \\n\\n    def forward(self, x):\\n        x = x.view(-1, 3 * 32 * 32)             \\n        x = torch.relu(self.fc1(x))\\n        x = torch.relu(self.fc2(x))\\n        x = torch.relu(self.fc3(x))\\n        x = torch.relu(self.fc4(x))\\n        x = self.dropout(x)\\n        x = self.fc5(x)                        \\n        return x '"
      ]
     },
     "execution_count": 15,
     "metadata": {},
     "output_type": "execute_result"
    }
   ],
   "source": [
    "\"\"\"class DenseNN(nn.Module):\n",
    "    def __init__(self):\n",
    "        super(DenseNN, self).__init__()\n",
    "        self.fc1 = nn.Linear(3 * 32 * 32, 2048)  \n",
    "        self.fc2 = nn.Linear(2048, 1024)           \n",
    "        self.fc3 = nn.Linear(1024, 512)   \n",
    "        self.fc4 = nn.Linear(512, 256) \n",
    "        self.dropout = nn.Dropout(p=0.5)        \n",
    "        self.fc5 = nn.Linear(256, 10)           \n",
    "\n",
    "    def forward(self, x):\n",
    "        x = x.view(-1, 3 * 32 * 32)             \n",
    "        x = torch.relu(self.fc1(x))\n",
    "        x = torch.relu(self.fc2(x))\n",
    "        x = torch.relu(self.fc3(x))\n",
    "        x = torch.relu(self.fc4(x))\n",
    "        x = self.dropout(x)\n",
    "        x = self.fc5(x)                        \n",
    "        return x \"\"\""
   ]
  },
  {
   "cell_type": "code",
   "execution_count": 16,
   "metadata": {},
   "outputs": [],
   "source": [
    "class DenseNN(nn.Module):\n",
    "    def __init__(self):\n",
    "        super(DenseNN, self).__init__()\n",
    "        self.fc1 = nn.Linear(3 * 32 * 32, 1024)  \n",
    "        self.fc2 = nn.Linear(1024, 512)           \n",
    "        self.fc3 = nn.Linear(512, 10)                    \n",
    "\n",
    "\n",
    "    def forward(self, x):\n",
    "        x = x.view(-1, 3 * 32 * 32)             \n",
    "        x = torch.relu(self.fc1(x))\n",
    "        x = torch.relu(self.fc2(x))\n",
    "        x = self.fc3(x)                        \n",
    "        return x"
   ]
  },
  {
   "cell_type": "code",
   "execution_count": 17,
   "metadata": {},
   "outputs": [
    {
     "name": "stdout",
     "output_type": "stream",
     "text": [
      "Epoch 1/5, Loss: 1.6433 Accuracy: 41.722 %\n",
      "Epoch 2/5, Loss: 1.4243 Accuracy: 49.794 %\n",
      "Epoch 3/5, Loss: 1.3092 Accuracy: 53.602 %\n",
      "Epoch 4/5, Loss: 1.2064 Accuracy: 57.162 %\n",
      "Epoch 5/5, Loss: 1.1216 Accuracy: 59.952 %\n",
      "Finished Training\n"
     ]
    }
   ],
   "source": [
    "device = torch.device(\"cuda\" if torch.cuda.is_available() else \"cpu\")\n",
    "model = DenseNN().to(device)                   \n",
    "criterion = nn.CrossEntropyLoss()\n",
    "\n",
    "num_epochs = 5\n",
    "optimizer = optim.Adam(model.parameters(), lr=0.001)\n",
    "\n",
    "for epoch in range(num_epochs):\n",
    "    model.train()\n",
    "    running_loss = 0\n",
    "    correct = 0\n",
    "    total = 0\n",
    "    for images, labels in trainloader:\n",
    "        images, labels = images.to(device), labels.to(device)\n",
    "        optimizer.zero_grad()             # Zero the parameter gradients\n",
    "        outputs = model(images)           # Forward pass: Compute predictions\n",
    "        loss = criterion(outputs, labels) # Compute loss\n",
    "        loss.backward()                   # Backward pass: Compute gradients\n",
    "        optimizer.step()                  # Update weights\n",
    "        running_loss += loss.item()\n",
    "\n",
    "        _, predicted = torch.max(outputs, 1)\n",
    "        total += labels.size(0)\n",
    "        correct += (predicted == labels).sum().item()\n",
    "    print(f\"Epoch {epoch+1}/{num_epochs}, Loss: {running_loss/len(trainloader):.4f} Accuracy: {(correct*100) / total} %\")\n",
    "\n",
    "print(\"Finished Training\")"
   ]
  },
  {
   "cell_type": "code",
   "execution_count": 18,
   "metadata": {},
   "outputs": [
    {
     "name": "stdout",
     "output_type": "stream",
     "text": [
      "Test Accuracy after epoch 5: 53.42%\n"
     ]
    }
   ],
   "source": [
    "\n",
    "\n",
    "model.eval()  # Set the model to evaluation mode\n",
    "correct = 0\n",
    "total = 0\n",
    "with torch.no_grad():  # Disable gradient calculation\n",
    "    for images, labels in testloader:\n",
    "        images, labels = images.to(device), labels.to(device)\n",
    "        outputs = model(images)\n",
    "        _, predicted = torch.max(outputs, 1) \n",
    "        total += labels.size(0)\n",
    "        correct += (predicted == labels).sum().item()  # Count correct predictions\n",
    "\n",
    "# Calculate and print accuracy\n",
    "accuracy = 100 * correct / total\n",
    "print(f\"Test Accuracy after epoch {epoch + 1}: {accuracy:.2f}%\")"
   ]
  }
 ],
 "metadata": {
  "kernelspec": {
   "display_name": ".venv",
   "language": "python",
   "name": "python3"
  },
  "language_info": {
   "codemirror_mode": {
    "name": "ipython",
    "version": 3
   },
   "file_extension": ".py",
   "mimetype": "text/x-python",
   "name": "python",
   "nbconvert_exporter": "python",
   "pygments_lexer": "ipython3",
   "version": "3.12.0"
  }
 },
 "nbformat": 4,
 "nbformat_minor": 2
}
